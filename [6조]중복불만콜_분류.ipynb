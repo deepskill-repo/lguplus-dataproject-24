{
 "cells": [
  {
   "cell_type": "markdown",
   "id": "3f4b34b2",
   "metadata": {},
   "source": [
    "# 불만콜 재인입 예측\n",
    "\n",
    "## 문제 상황\n",
    "고객이 이동통신 콜센터에 불만이 있어서 전화를 했는데, 조치를 설명해줬음에도 불구하고 고객이 이해하지 못해 다시 전화를 하는 상황이 발생합니다. 이러한 불만콜 재인입 상황을 고객의 특성(성별, 연령, 지역 등)을 기반으로 예측하고자 합니다.\n",
    "\n",
    "이 노트북에서는 RandomForestClassifier를 사용하여 분류 분석을 수행합니다.\n",
    "\n",
    "## 데이터 준비\n",
    "우선, 예제 데이터를 생성하고 불만콜 재인입 여부를 포함한 데이터프레임을 만들어보겠습니다. 어떤 형태의 데이터가 필요한지 눈여겨봐주세요.\n"
   ]
  },
  {
   "cell_type": "code",
   "execution_count": 1,
   "id": "bed544b1",
   "metadata": {},
   "outputs": [
    {
     "data": {
      "text/html": [
       "<div>\n",
       "<style scoped>\n",
       "    .dataframe tbody tr th:only-of-type {\n",
       "        vertical-align: middle;\n",
       "    }\n",
       "\n",
       "    .dataframe tbody tr th {\n",
       "        vertical-align: top;\n",
       "    }\n",
       "\n",
       "    .dataframe thead th {\n",
       "        text-align: right;\n",
       "    }\n",
       "</style>\n",
       "<table border=\"1\" class=\"dataframe\">\n",
       "  <thead>\n",
       "    <tr style=\"text-align: right;\">\n",
       "      <th></th>\n",
       "      <th>age</th>\n",
       "      <th>call_duration</th>\n",
       "      <th>satisfaction</th>\n",
       "      <th>repeated_call</th>\n",
       "      <th>gender_M</th>\n",
       "      <th>region_Region2</th>\n",
       "      <th>region_Region3</th>\n",
       "      <th>region_Region4</th>\n",
       "    </tr>\n",
       "  </thead>\n",
       "  <tbody>\n",
       "    <tr>\n",
       "      <th>0</th>\n",
       "      <td>34</td>\n",
       "      <td>12</td>\n",
       "      <td>2</td>\n",
       "      <td>0</td>\n",
       "      <td>True</td>\n",
       "      <td>True</td>\n",
       "      <td>False</td>\n",
       "      <td>False</td>\n",
       "    </tr>\n",
       "    <tr>\n",
       "      <th>1</th>\n",
       "      <td>26</td>\n",
       "      <td>2</td>\n",
       "      <td>4</td>\n",
       "      <td>0</td>\n",
       "      <td>False</td>\n",
       "      <td>False</td>\n",
       "      <td>True</td>\n",
       "      <td>False</td>\n",
       "    </tr>\n",
       "    <tr>\n",
       "      <th>2</th>\n",
       "      <td>50</td>\n",
       "      <td>6</td>\n",
       "      <td>1</td>\n",
       "      <td>0</td>\n",
       "      <td>True</td>\n",
       "      <td>False</td>\n",
       "      <td>False</td>\n",
       "      <td>False</td>\n",
       "    </tr>\n",
       "    <tr>\n",
       "      <th>3</th>\n",
       "      <td>37</td>\n",
       "      <td>17</td>\n",
       "      <td>3</td>\n",
       "      <td>0</td>\n",
       "      <td>True</td>\n",
       "      <td>False</td>\n",
       "      <td>False</td>\n",
       "      <td>True</td>\n",
       "    </tr>\n",
       "    <tr>\n",
       "      <th>4</th>\n",
       "      <td>30</td>\n",
       "      <td>3</td>\n",
       "      <td>3</td>\n",
       "      <td>0</td>\n",
       "      <td>True</td>\n",
       "      <td>False</td>\n",
       "      <td>True</td>\n",
       "      <td>False</td>\n",
       "    </tr>\n",
       "  </tbody>\n",
       "</table>\n",
       "</div>"
      ],
      "text/plain": [
       "   age  call_duration  satisfaction  repeated_call  gender_M  region_Region2  \\\n",
       "0   34             12             2              0      True            True   \n",
       "1   26              2             4              0     False           False   \n",
       "2   50              6             1              0      True           False   \n",
       "3   37             17             3              0      True           False   \n",
       "4   30              3             3              0      True           False   \n",
       "\n",
       "   region_Region3  region_Region4  \n",
       "0           False           False  \n",
       "1            True           False  \n",
       "2           False           False  \n",
       "3           False            True  \n",
       "4            True           False  "
      ]
     },
     "execution_count": 1,
     "metadata": {},
     "output_type": "execute_result"
    }
   ],
   "source": [
    "import pandas as pd\n",
    "import numpy as np\n",
    "from sklearn.model_selection import train_test_split\n",
    "from sklearn.preprocessing import StandardScaler\n",
    "from sklearn.ensemble import RandomForestClassifier\n",
    "from sklearn.metrics import classification_report, confusion_matrix\n",
    "import matplotlib.pyplot as plt\n",
    "import seaborn as sns\n",
    "\n",
    "# 랜덤 시드 설정\n",
    "np.random.seed(42)\n",
    "\n",
    "# 예제 데이터 생성\n",
    "n_samples = 1000\n",
    "data = pd.DataFrame({\n",
    "    'gender': np.random.choice(['M', 'F'], n_samples),\n",
    "    'age': np.round(np.random.randint(18, 70, n_samples)),\n",
    "    'region': np.random.choice(['Region1', 'Region2', 'Region3', 'Region4'], n_samples),\n",
    "    'call_duration': np.round(np.random.randint(1, 20, n_samples)),\n",
    "    'satisfaction': np.round(np.random.choice([1, 2, 3, 4, 5], n_samples)),\n",
    "    'repeated_call': np.round(np.random.choice([0, 1], n_samples, p=[0.7, 0.3]))\n",
    "})\n",
    "\n",
    "# 범주형 변수 인코딩\n",
    "data = pd.get_dummies(data, columns=['gender', 'region'], drop_first=True)\n",
    "\n",
    "# 데이터 확인\n",
    "data.head()"
   ]
  },
  {
   "cell_type": "markdown",
   "id": "5550c1fd",
   "metadata": {},
   "source": [
    "\n",
    "## 데이터 분할 및 전처리\n",
    "데이터를 학습용과 테스트용으로 분할하고 전처리합니다.\n"
   ]
  },
  {
   "cell_type": "code",
   "execution_count": 2,
   "id": "0ed2c9d0",
   "metadata": {},
   "outputs": [],
   "source": [
    "# 특성(X)과 타겟(y) 분리\n",
    "X = data.drop('repeated_call', axis=1)\n",
    "y = data['repeated_call']\n",
    "\n",
    "# 학습용 데이터와 테스트용 데이터 분할\n",
    "X_train, X_test, y_train, y_test = train_test_split(X, y, test_size=0.3, random_state=42)\n",
    "\n",
    "# 표준화\n",
    "scaler = StandardScaler()\n",
    "X_train = scaler.fit_transform(X_train)\n",
    "X_test = scaler.transform(X_test)"
   ]
  },
  {
   "cell_type": "markdown",
   "id": "7a9cc04a",
   "metadata": {},
   "source": [
    "\n",
    "## RandomForestClassifier 모델 학습\n",
    "RandomForestClassifier를 사용하여 모델을 학습시킵니다.\n"
   ]
  },
  {
   "cell_type": "code",
   "execution_count": 3,
   "id": "204bb3f8",
   "metadata": {},
   "outputs": [
    {
     "name": "stdout",
     "output_type": "stream",
     "text": [
      "[[191  35]\n",
      " [ 66   8]]\n",
      "              precision    recall  f1-score   support\n",
      "\n",
      "           0       0.74      0.85      0.79       226\n",
      "           1       0.19      0.11      0.14        74\n",
      "\n",
      "    accuracy                           0.66       300\n",
      "   macro avg       0.46      0.48      0.46       300\n",
      "weighted avg       0.61      0.66      0.63       300\n",
      "\n"
     ]
    }
   ],
   "source": [
    "# RandomForestClassifier 모델 정의 및 학습\n",
    "model = RandomForestClassifier(n_estimators=100, random_state=42)\n",
    "model.fit(X_train, y_train)\n",
    "\n",
    "# 예측\n",
    "y_pred = model.predict(X_test)\n",
    "\n",
    "# 모델 평가\n",
    "print(confusion_matrix(y_test, y_pred))\n",
    "print(classification_report(y_test, y_pred))"
   ]
  },
  {
   "cell_type": "markdown",
   "id": "3bc153b7",
   "metadata": {},
   "source": [
    "\n",
    "## 특성 중요도 시각화\n",
    "모델의 특성 중요도를 시각화하여 어떤 특성이 불만콜 재인입 예측에 중요한지 확인합니다.\n"
   ]
  },
  {
   "cell_type": "code",
   "execution_count": 4,
   "id": "d44f13ff",
   "metadata": {},
   "outputs": [
    {
     "data": {
      "image/png": "[encoded data removed]",
      "text/plain": [
       "<Figure size 1400x700 with 1 Axes>"
      ]
     },
     "metadata": {},
     "output_type": "display_data"
    }
   ],
   "source": [
    "# 특성 중요도\n",
    "importances = model.feature_importances_\n",
    "features = X.columns\n",
    "indices = np.argsort(importances)[::-1]\n",
    "\n",
    "# 중요도 시각화\n",
    "plt.figure(figsize=(14, 7))\n",
    "plt.title(\"Feature Importances\")\n",
    "plt.bar(range(X.shape[1]), importances[indices], align=\"center\")\n",
    "plt.xticks(range(X.shape[1]), [features[i] for i in indices], rotation=90)\n",
    "plt.tight_layout()\n",
    "plt.show()"
   ]
  },
  {
   "cell_type": "markdown",
   "id": "0df4c7be",
   "metadata": {},
   "source": [
    "\n",
    "## 비즈니스 의사결정\n",
    "고객의 불만콜 재인입 여부를 사전에 예측함으로써, 고객 센터는 사전 경고 시스템을 통해 재인입을 방지하기 위한 조치를 취할 수 있습니다. 이를 통해 고객 만족도를 향상시키고, 운영 효율성을 높일 수 있습니다.\n"
   ]
  }
 ],
 "metadata": {
  "kernelspec": {
   "display_name": "base",
   "language": "python",
   "name": "python3"
  },
  "language_info": {
   "codemirror_mode": {
    "name": "ipython",
    "version": 3
   },
   "file_extension": ".py",
   "mimetype": "text/x-python",
   "name": "python",
   "nbconvert_exporter": "python",
   "pygments_lexer": "ipython3",
   "version": "3.11.7"
  }
 },
 "nbformat": 4,
 "nbformat_minor": 5
}
